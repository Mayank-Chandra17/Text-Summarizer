{
 "cells": [
  {
   "cell_type": "code",
   "execution_count": 103,
   "id": "bb7c05ce-c55d-4242-8202-8d8db2ffcf30",
   "metadata": {},
   "outputs": [],
   "source": [
    "import spacy\n",
    "from spacy.lang.en.stop_words import STOP_WORDS\n",
    "from string import punctuation\n",
    "from collections import Counter\n",
    "import pandas as pd"
   ]
  },
  {
   "cell_type": "code",
   "execution_count": 104,
   "id": "36432deb-bc28-476f-a2f1-01f37f67964f",
   "metadata": {},
   "outputs": [],
   "source": [
    "text=\"Generative AI is no longer confined to research labs or tech companies it has become an integral part of daily life. From personalized movie recommendations to AI-assisted design tools, these systems are shaping how people work, learn, and create.One of the most noticeable shifts is in communication. Chatbots powered by generative models can now draft emails, translate languages, and even provide mental health support. In creative industries, AI is helping musicians compose melodies, artists generate concept sketches, and writers explore new story ideas.However, this rapid growth also raises questions about authenticity, ethics, and the role of human creativity. While AI can produce remarkable outputs, it often relies on vast datasets that include human-made content. This leads to ongoing debates about intellectual property and originality.Looking ahead, the future of generative AI will likely focus on collaboration rather than replacement. As tools become more refined, humans and machines will work together augmenting imagination, efficiency, and problem-solving capabilities. The challenge lies in ensuring that this partnership remains ethical, transparent, and beneficial for all.\""
   ]
  },
  {
   "cell_type": "code",
   "execution_count": 105,
   "id": "28437a2b-9451-4c20-b6a7-054cc0be2d1f",
   "metadata": {},
   "outputs": [],
   "source": [
    "nlp= spacy.load(\"en_core_web_sm\")"
   ]
  },
  {
   "cell_type": "code",
   "execution_count": 106,
   "id": "13ae2e03-b1ef-4a4d-9522-9cab61907e02",
   "metadata": {},
   "outputs": [],
   "source": [
    "  doc=nlp(text)"
   ]
  },
  {
   "cell_type": "code",
   "execution_count": 107,
   "id": "91173f9b-fcdf-4e68-b7ee-d7d32069a36f",
   "metadata": {},
   "outputs": [],
   "source": [
    "    tokens=[] \n",
    "    stopwords = list(STOP_WORDS)\n",
    "    allowed_pos = ['ADJ','PROPN','VERB','NOUN']\n",
    "    for token in doc:\n",
    "        if token.text in stopwords or token.text in punctuation: \n",
    "            continue\n",
    "        if token.pos_ in allowed_pos: \n",
    "            tokens.append(token.text)"
   ]
  },
  {
   "cell_type": "code",
   "execution_count": 108,
   "id": "600b8054-7283-430b-a24d-e8a64eecb6c9",
   "metadata": {},
   "outputs": [],
   "source": [
    "   word_freq=Counter(tokens)"
   ]
  },
  {
   "cell_type": "code",
   "execution_count": 109,
   "id": "f9adbfc6-f96c-40a6-b9e7-33a302a43556",
   "metadata": {},
   "outputs": [],
   "source": [
    "    max_freq=max(word_freq.values())"
   ]
  },
  {
   "cell_type": "code",
   "execution_count": 110,
   "id": "03c2e138-cb80-47d3-975e-115c070ef3e6",
   "metadata": {},
   "outputs": [
    {
     "data": {
      "text/plain": [
       "5"
      ]
     },
     "execution_count": 110,
     "metadata": {},
     "output_type": "execute_result"
    }
   ],
   "source": [
    "max_freq"
   ]
  },
  {
   "cell_type": "code",
   "execution_count": 111,
   "id": "a09414b9-9365-4767-8eeb-d68c0fa234bb",
   "metadata": {},
   "outputs": [],
   "source": [
    "    for word in word_freq.keys():\n",
    "        word_freq[word]=word_freq[word]/max_freq"
   ]
  },
  {
   "cell_type": "code",
   "execution_count": 112,
   "id": "0d253336-0013-4bbd-824c-6e974114364d",
   "metadata": {},
   "outputs": [],
   "source": [
    "    sent_token=[sent.text for sent in doc.sents]\n",
    "    "
   ]
  },
  {
   "cell_type": "code",
   "execution_count": 113,
   "id": "64dcd2f4-51bf-499d-8861-7b5c07250afa",
   "metadata": {},
   "outputs": [
    {
     "data": {
      "text/plain": [
       "['Generative AI is no longer confined to research labs or tech companies it has become an integral part of daily life.',\n",
       " 'From personalized movie recommendations to AI-assisted design tools, these systems are shaping how people work, learn, and create.',\n",
       " 'One of the most noticeable shifts is in communication.',\n",
       " 'Chatbots powered by generative models can now draft emails, translate languages, and even provide mental health support.',\n",
       " 'In creative industries, AI is helping musicians compose melodies, artists generate concept sketches, and writers explore new story ideas.',\n",
       " 'However, this rapid growth also raises questions about authenticity, ethics, and the role of human creativity.',\n",
       " 'While AI can produce remarkable outputs, it often relies on vast datasets that include human-made content.',\n",
       " 'This leads to ongoing debates about intellectual property and originality.',\n",
       " 'Looking ahead, the future of generative AI will likely focus on collaboration rather than replacement.',\n",
       " 'As tools become more refined, humans and machines will work together augmenting imagination, efficiency, and problem-solving capabilities.',\n",
       " 'The challenge lies in ensuring that this partnership remains ethical, transparent, and beneficial for all.']"
      ]
     },
     "execution_count": 113,
     "metadata": {},
     "output_type": "execute_result"
    }
   ],
   "source": [
    "sent_token"
   ]
  },
  {
   "cell_type": "code",
   "execution_count": 114,
   "id": "f88df076-bc37-424a-95c4-3dd487c58a56",
   "metadata": {},
   "outputs": [],
   "source": [
    " def score(sent_token):\n",
    "        sent_score={}\n",
    "        for sent in sent_token:\n",
    "            for word in sent.split():\n",
    "                if word.lower() in word_freq.keys():\n",
    "                    if sent not in sent_score.keys():\n",
    "                        sent_score[sent]=word_freq[word]\n",
    "                    else:\n",
    "                        sent_score[sent]+=word_freq[word]\n",
    "                print(word)"
   ]
  },
  {
   "cell_type": "code",
   "execution_count": 115,
   "id": "ee6759d8-374a-4d1c-816f-9fca5bbaf95d",
   "metadata": {},
   "outputs": [
    {
     "data": {
      "text/html": [
       "<div>\n",
       "<style scoped>\n",
       "    .dataframe tbody tr th:only-of-type {\n",
       "        vertical-align: middle;\n",
       "    }\n",
       "\n",
       "    .dataframe tbody tr th {\n",
       "        vertical-align: top;\n",
       "    }\n",
       "\n",
       "    .dataframe thead th {\n",
       "        text-align: right;\n",
       "    }\n",
       "</style>\n",
       "<table border=\"1\" class=\"dataframe\">\n",
       "  <thead>\n",
       "    <tr style=\"text-align: right;\">\n",
       "      <th></th>\n",
       "      <th>Sentence</th>\n",
       "      <th>Score</th>\n",
       "    </tr>\n",
       "  </thead>\n",
       "  <tbody>\n",
       "    <tr>\n",
       "      <th>0</th>\n",
       "      <td>Generative AI is no longer confined to researc...</td>\n",
       "      <td>1.6</td>\n",
       "    </tr>\n",
       "    <tr>\n",
       "      <th>1</th>\n",
       "      <td>From personalized movie recommendations to AI-...</td>\n",
       "      <td>1.4</td>\n",
       "    </tr>\n",
       "    <tr>\n",
       "      <th>2</th>\n",
       "      <td>One of the most noticeable shifts is in commun...</td>\n",
       "      <td>0.4</td>\n",
       "    </tr>\n",
       "    <tr>\n",
       "      <th>3</th>\n",
       "      <td>Chatbots powered by generative models can now ...</td>\n",
       "      <td>1.8</td>\n",
       "    </tr>\n",
       "    <tr>\n",
       "      <th>4</th>\n",
       "      <td>In creative industries, AI is helping musician...</td>\n",
       "      <td>2.2</td>\n",
       "    </tr>\n",
       "    <tr>\n",
       "      <th>5</th>\n",
       "      <td>However, this rapid growth also raises questio...</td>\n",
       "      <td>1.4</td>\n",
       "    </tr>\n",
       "    <tr>\n",
       "      <th>6</th>\n",
       "      <td>While AI can produce remarkable outputs, it of...</td>\n",
       "      <td>1.2</td>\n",
       "    </tr>\n",
       "    <tr>\n",
       "      <th>7</th>\n",
       "      <td>This leads to ongoing debates about intellectu...</td>\n",
       "      <td>1.0</td>\n",
       "    </tr>\n",
       "    <tr>\n",
       "      <th>8</th>\n",
       "      <td>Looking ahead, the future of generative AI wil...</td>\n",
       "      <td>1.0</td>\n",
       "    </tr>\n",
       "    <tr>\n",
       "      <th>9</th>\n",
       "      <td>As tools become more refined, humans and machi...</td>\n",
       "      <td>1.4</td>\n",
       "    </tr>\n",
       "    <tr>\n",
       "      <th>10</th>\n",
       "      <td>The challenge lies in ensuring that this partn...</td>\n",
       "      <td>1.2</td>\n",
       "    </tr>\n",
       "  </tbody>\n",
       "</table>\n",
       "</div>"
      ],
      "text/plain": [
       "                                             Sentence  Score\n",
       "0   Generative AI is no longer confined to researc...    1.6\n",
       "1   From personalized movie recommendations to AI-...    1.4\n",
       "2   One of the most noticeable shifts is in commun...    0.4\n",
       "3   Chatbots powered by generative models can now ...    1.8\n",
       "4   In creative industries, AI is helping musician...    2.2\n",
       "5   However, this rapid growth also raises questio...    1.4\n",
       "6   While AI can produce remarkable outputs, it of...    1.2\n",
       "7   This leads to ongoing debates about intellectu...    1.0\n",
       "8   Looking ahead, the future of generative AI wil...    1.0\n",
       "9   As tools become more refined, humans and machi...    1.4\n",
       "10  The challenge lies in ensuring that this partn...    1.2"
      ]
     },
     "execution_count": 115,
     "metadata": {},
     "output_type": "execute_result"
    }
   ],
   "source": [
    "pd.DataFrame(list(sent_score.items()),columns=[\"Sentence\",\"Score\"])"
   ]
  },
  {
   "cell_type": "code",
   "execution_count": 116,
   "id": "2e8c3857-a6d5-4574-b922-ccb2526521e2",
   "metadata": {},
   "outputs": [],
   "source": [
    "from heapq import nlargest"
   ]
  },
  {
   "cell_type": "code",
   "execution_count": 117,
   "id": "95cc198d-83fb-49f6-8cfb-352c91ca1243",
   "metadata": {},
   "outputs": [],
   "source": [
    "    num_sentences=3\n",
    "    n=nlargest(num_sentences,sent_score,key=sent_score.get)"
   ]
  },
  {
   "cell_type": "code",
   "execution_count": 118,
   "id": "3866f4fa-72d4-4ef0-8009-21f7fbe7a4d0",
   "metadata": {},
   "outputs": [],
   "source": [
    "summary=\" \".join(n)"
   ]
  },
  {
   "cell_type": "code",
   "execution_count": 119,
   "id": "69113308-c3b8-4ee3-9825-e1d4b4d24a92",
   "metadata": {},
   "outputs": [
    {
     "name": "stdout",
     "output_type": "stream",
     "text": [
      "In creative industries, AI is helping musicians compose melodies, artists generate concept sketches, and writers explore new story ideas. Chatbots powered by generative models can now draft emails, translate languages, and even provide mental health support. Generative AI is no longer confined to research labs or tech companies it has become an integral part of daily life.\n"
     ]
    }
   ],
   "source": [
    "print(summary)"
   ]
  },
  {
   "cell_type": "code",
   "execution_count": 97,
   "id": "30a47b99-257e-4ca3-8526-b9820f9f82bf",
   "metadata": {},
   "outputs": [],
   "source": [
    "import pickle"
   ]
  },
  {
   "cell_type": "code",
   "execution_count": 102,
   "id": "d8937f0b-9d6f-48d3-a8fd-64e30aa12c84",
   "metadata": {},
   "outputs": [],
   "source": [
    "\n",
    "with open(\"summarizer2.pkl\", \"wb\") as f:\n",
    "    pickle.dump(model, f)"
   ]
  },
  {
   "cell_type": "code",
   "execution_count": null,
   "id": "410879ab-85a8-4784-804e-e9f3d6544347",
   "metadata": {},
   "outputs": [],
   "source": []
  }
 ],
 "metadata": {
  "kernelspec": {
   "display_name": "Python [conda env:base] *",
   "language": "python",
   "name": "conda-base-py"
  },
  "language_info": {
   "codemirror_mode": {
    "name": "ipython",
    "version": 3
   },
   "file_extension": ".py",
   "mimetype": "text/x-python",
   "name": "python",
   "nbconvert_exporter": "python",
   "pygments_lexer": "ipython3",
   "version": "3.13.5"
  }
 },
 "nbformat": 4,
 "nbformat_minor": 5
}
